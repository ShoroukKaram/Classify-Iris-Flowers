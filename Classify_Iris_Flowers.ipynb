{
  "nbformat": 4,
  "nbformat_minor": 0,
  "metadata": {
    "colab": {
      "private_outputs": true,
      "provenance": [],
      "authorship_tag": "ABX9TyMnRJXLgIXDvXf5dXMPWfEN",
      "include_colab_link": true
    },
    "kernelspec": {
      "name": "python3",
      "display_name": "Python 3"
    },
    "language_info": {
      "name": "python"
    }
  },
  "cells": [
    {
      "cell_type": "markdown",
      "metadata": {
        "id": "view-in-github",
        "colab_type": "text"
      },
      "source": [
        "<a href=\"https://colab.research.google.com/github/ShoroukKaram/Classify-Iris-Flowers/blob/main/Classify_Iris_Flowers.ipynb\" target=\"_parent\"><img src=\"https://colab.research.google.com/assets/colab-badge.svg\" alt=\"Open In Colab\"/></a>"
      ]
    },
    {
      "cell_type": "code",
      "source": [
        "\n",
        "# Load the Iris dataset\n",
        "url = \"https://archive.ics.uci.edu/ml/machine-learning-databases/iris/iris.data\"\n",
        "column_names = [\"sepal_length\", \"sepal_width\", \"petal_length\", \"petal_width\", \"species\"]\n",
        "iris_data = pd.read_csv(url, header=None, names=column_names)"
      ],
      "metadata": {
        "id": "wwUU3DLLHeOC"
      },
      "execution_count": null,
      "outputs": []
    },
    {
      "cell_type": "code",
      "source": [
        "iris"
      ],
      "metadata": {
        "id": "W8YcUhdqUezm"
      },
      "execution_count": null,
      "outputs": []
    },
    {
      "cell_type": "code",
      "source": [
        "iris_data"
      ],
      "metadata": {
        "id": "nqd15KS4Y5cZ"
      },
      "execution_count": null,
      "outputs": []
    },
    {
      "cell_type": "code",
      "source": [
        "iris_data.shape"
      ],
      "metadata": {
        "id": "yO2Qv-KfYuMb"
      },
      "execution_count": null,
      "outputs": []
    },
    {
      "cell_type": "code",
      "source": [
        "X.shape\n"
      ],
      "metadata": {
        "id": "vxF0nprMT-y_"
      },
      "execution_count": null,
      "outputs": []
    },
    {
      "cell_type": "code",
      "source": [
        "y.shape"
      ],
      "metadata": {
        "id": "pV3fe3T8UZwj"
      },
      "execution_count": null,
      "outputs": []
    },
    {
      "cell_type": "code",
      "source": [
        "\n",
        "iris_data['species'].value_counts()\n",
        "\n",
        "\n",
        "# iris is a balanced dataset as the number of data points for every class is same"
      ],
      "metadata": {
        "id": "cYUbpaBEVaLm"
      },
      "execution_count": null,
      "outputs": []
    },
    {
      "cell_type": "code",
      "source": [
        "iris_data.plot(kind ='scatter', x='sepal_length', y='sepal_width')"
      ],
      "metadata": {
        "id": "f_dWoswxZQrm"
      },
      "execution_count": null,
      "outputs": []
    },
    {
      "cell_type": "code",
      "source": [
        "sns.set_style('whitegrid');\n",
        "sns.FacetGrid(iris_data, hue='species',height=5)\\\n",
        "   .map(plt.scatter,'sepal_length','sepal_width')\\\n",
        "   .add_legend()\n",
        "plt.show();"
      ],
      "metadata": {
        "id": "aj7PqMxAZQuJ"
      },
      "execution_count": null,
      "outputs": []
    },
    {
      "cell_type": "markdown",
      "source": [
        "3D Scatter plot\n",
        "https://plot.ly/pandas/3d-scatter-plots/\n",
        "\n",
        "needs a lot of mouce interaction to interpret data."
      ],
      "metadata": {
        "id": "_0bK2ZXmaRg8"
      }
    },
    {
      "cell_type": "code",
      "source": [
        "plt.close()\n",
        "sns.set_style('whitegrid')\n",
        "sns.pairplot(iris_data,hue='species',height=3);\n",
        "plt.show()"
      ],
      "metadata": {
        "id": "yLsM1lblZQwe"
      },
      "execution_count": null,
      "outputs": []
    },
    {
      "cell_type": "code",
      "source": [
        "# Distrubution / Density plot of petal length of all flowers\n",
        "\n",
        "sns.FacetGrid(iris_data, hue='species',height=5)\\\n",
        "   .map(sns.distplot, 'petal_length')\\\n",
        "   .add_legend()\n",
        "\n",
        "plt.show()"
      ],
      "metadata": {
        "id": "UIB7V7cBZQy_"
      },
      "execution_count": null,
      "outputs": []
    },
    {
      "cell_type": "code",
      "source": [
        "# Distrubution / Density plot of petal length of all flowers\n",
        "\n",
        "sns.FacetGrid(iris_data, hue='species',height=5)\\\n",
        "   .map(sns.distplot, 'petal_width')\\\n",
        "   .add_legend()\n",
        "\n",
        "plt.show()"
      ],
      "metadata": {
        "id": "21Q8ikLlZQ22"
      },
      "execution_count": null,
      "outputs": []
    },
    {
      "cell_type": "code",
      "source": [
        "sns.FacetGrid(iris_data, hue='species',height=5)\\\n",
        "   .map(sns.distplot, 'sepal_length')\\\n",
        "   .add_legend()\n",
        "\n",
        "plt.show()"
      ],
      "metadata": {
        "id": "AZkrXpPnbihZ"
      },
      "execution_count": null,
      "outputs": []
    },
    {
      "cell_type": "code",
      "source": [
        "# Import necessary libraries\n",
        "import numpy as np\n",
        "import pandas as pd\n",
        "from sklearn.model_selection import train_test_split\n",
        "from sklearn.preprocessing import StandardScaler\n",
        "from sklearn.neighbors import KNeighborsClassifier\n",
        "from sklearn.metrics import classification_report, confusion_matrix\n",
        "\n",
        "\n",
        "\n",
        "X = iris_data.iloc[:, :-1].values\n",
        "y = iris_data['species'].values\n",
        "\n",
        "\n",
        "X_train, X_test, y_train, y_test = train_test_split(X, y, test_size=0.3, random_state=42)\n",
        "\n",
        "scaler = StandardScaler()\n",
        "X_train = scaler.fit_transform(X_train)\n",
        "X_test = scaler.transform(X_test)\n",
        "\n",
        "# Initialize the K-Nearest Neighbors classifier\n",
        "k = 3\n",
        "classifier = KNeighborsClassifier(n_neighbors=k)\n",
        "\n",
        "# Fit the classifier to the training data\n",
        "classifier.fit(X_train, y_train)\n",
        "\n",
        "#  predictions on the test data\n",
        "y_pred = classifier.predict(X_test)\n",
        "\n",
        "# Evaluate the model\n",
        "confusion_mat = confusion_matrix(y_test, y_pred)\n",
        "class_report = classification_report(y_test, y_pred)\n",
        "\n",
        "\n",
        "print(\"Confusion Matrix:\")\n",
        "print(confusion_mat)\n",
        "print(\"\\nClassification Report:\")\n",
        "print(class_report)\n"
      ],
      "metadata": {
        "id": "87V3rOAkQtgE"
      },
      "execution_count": null,
      "outputs": []
    },
    {
      "cell_type": "code",
      "source": [
        "import numpy as np\n",
        "import matplotlib.pyplot as plt\n",
        "from sklearn.metrics import confusion_matrix\n",
        "import seaborn as sns\n",
        "\n",
        "cm = confusion_matrix(y_test, y_pred)\n",
        "\n",
        "# Create a heatmap for the confusion matrix\n",
        "plt.figure(figsize=(6, 6))\n",
        "sns.heatmap(cm, annot=True, fmt=\"d\", cmap=\"Blues\"\n",
        " )\n",
        "plt.xlabel('Predicted')\n",
        "plt.ylabel('True')\n",
        "plt.title('Confusion Matrix')\n",
        "plt.show()\n"
      ],
      "metadata": {
        "id": "Hv6uCBf6My-E"
      },
      "execution_count": null,
      "outputs": []
    },
    {
      "cell_type": "code",
      "source": [],
      "metadata": {
        "id": "ztkfpHt_T9oc"
      },
      "execution_count": null,
      "outputs": []
    },
    {
      "cell_type": "code",
      "source": [],
      "metadata": {
        "id": "Utc0j_3GN-s5"
      },
      "execution_count": null,
      "outputs": []
    }
  ]
}